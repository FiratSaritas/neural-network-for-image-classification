{
 "cells": [
  {
   "cell_type": "code",
   "execution_count": null,
   "id": "a7e5d5a2-1e2a-4378-ba41-cf7daa20a831",
   "metadata": {},
   "outputs": [],
   "source": []
  },
  {
   "cell_type": "code",
   "execution_count": null,
   "id": "03923c6c-662a-4596-b2b7-5908e04ac0a0",
   "metadata": {},
   "outputs": [],
   "source": []
  },
  {
   "cell_type": "code",
   "execution_count": null,
   "id": "681fb082-faa7-4464-9a53-22c3ce1fa536",
   "metadata": {},
   "outputs": [],
   "source": []
  },
  {
   "cell_type": "code",
   "execution_count": null,
   "id": "13cb77b5-daae-4e8f-ad4c-a40730966d08",
   "metadata": {},
   "outputs": [],
   "source": []
  },
  {
   "cell_type": "code",
   "execution_count": 25,
   "id": "da5adcc4-6c3a-4ab3-ac57-8e6bfab94625",
   "metadata": {},
   "outputs": [
    {
     "name": "stdin",
     "output_type": "stream",
     "text": [
      "Enter Animal: ewf\n",
      "Number of Pagedowns: 5\n"
     ]
    },
    {
     "name": "stdout",
     "output_type": "stream",
     "text": [
      "5\n"
     ]
    }
   ],
   "source": [
    "\n",
    "categorie = input(\"Enter Animal:\")\n",
    "number_of_pagedowns = input(\"Number of Pagedowns:\")\n",
    "\n",
    "print(int(number_of_pagedowns))"
   ]
  },
  {
   "cell_type": "code",
   "execution_count": null,
   "id": "e74fdd5c-6088-492f-bd9a-c632f635682b",
   "metadata": {},
   "outputs": [],
   "source": []
  },
  {
   "cell_type": "code",
   "execution_count": 16,
   "id": "27a1ab7b-4d21-4db5-9030-4945e8ee737b",
   "metadata": {},
   "outputs": [
    {
     "data": {
      "text/plain": [
       "139"
      ]
     },
     "execution_count": 16,
     "metadata": {},
     "output_type": "execute_result"
    }
   ],
   "source": [
    "len(img_tags)"
   ]
  },
  {
   "cell_type": "code",
   "execution_count": null,
   "id": "3167ab70-91e3-45d2-ada6-db32faaf1a6c",
   "metadata": {},
   "outputs": [],
   "source": []
  },
  {
   "cell_type": "code",
   "execution_count": 26,
   "id": "117eefd3-2b9f-49ad-9e0f-0737bfe6b614",
   "metadata": {
    "tags": []
   },
   "outputs": [
    {
     "name": "stdin",
     "output_type": "stream",
     "text": [
      "Enter Animal: cat\n",
      "Number of Pagedowns: 4\n"
     ]
    },
    {
     "name": "stderr",
     "output_type": "stream",
     "text": [
      "<ipython-input-26-14136121b44f>:30: DeprecationWarning: find_element_by_* commands are deprecated. Please use find_element() instead\n",
      "  elem = driver.find_element_by_tag_name(\"body\")\n",
      "<ipython-input-26-14136121b44f>:34: DeprecationWarning: find_element_by_* commands are deprecated. Please use find_element() instead\n",
      "  driver.find_element_by_xpath(\"//button[text()='Load more photos']\").click()\n"
     ]
    }
   ],
   "source": [
    "import time\n",
    "import re\n",
    "import requests\n",
    "from bs4 import BeautifulSoup\n",
    "from pathlib import Path\n",
    "import urllib.request\n",
    "from PIL import Image\n",
    "from io import BytesIO\n",
    "\n",
    "from selenium import webdriver\n",
    "from selenium.webdriver.common.keys import Keys\n",
    "\n",
    "driver = webdriver.Chrome()\n",
    "\n",
    "categorie = input(\"Enter Animal:\")\n",
    "number_of_pagedowns = input(\"Number of Pagedowns:\")\n",
    "number_of_pagedowns = int(number_of_pagedowns)\n",
    "\n",
    "\n",
    "Path(categorie).mkdir(parents=True, exist_ok=True)\n",
    "\n",
    "\n",
    "get_cat = \"https://unsplash.com/s/photos/\",categorie\n",
    "new_get_cat = ''.join(get_cat)\n",
    "\n",
    "\n",
    "driver.get(new_get_cat)\n",
    "time.sleep(2)\n",
    "\n",
    "elem = driver.find_element_by_tag_name(\"body\")\n",
    "\n",
    "\n",
    "try:\n",
    "    driver.find_element_by_xpath(\"//button[text()='Load more photos']\").click()\n",
    "except: pass\n",
    "\n",
    "no_of_pagedowns = number_of_pagedowns\n",
    "\n",
    "while no_of_pagedowns:\n",
    "    elem.send_keys(Keys.PAGE_DOWN)\n",
    "    time.sleep(0.2)\n",
    "    no_of_pagedowns-=1\n",
    "\n",
    "\n",
    "\n",
    "html = driver.page_source\n",
    "\n",
    "soup = BeautifulSoup(html, 'html.parser')\n",
    "img_tags = soup.find_all('img')\n",
    "\n",
    "urls = [img['src'] for img in img_tags]\n",
    "name = 1\n",
    "\n",
    "for url in urls:\n",
    "    try:\n",
    "        img_data = requests.get(url).content  \n",
    "        im = Image.open(BytesIO(img_data))\n",
    "        if im.size[0] <= 100:\n",
    "            pass\n",
    "        if im.size[1] <= 100:\n",
    "            pass\n",
    "        else:\n",
    "            try:\n",
    "                req = categorie,\"/\",categorie,\"_\",str(name),\".jpg\"\n",
    "                new_req = ''.join(req)\n",
    "                urllib.request.urlretrieve(url,new_req)\n",
    "                name = name + 1\n",
    "            except: pass\n",
    "    except: pass\n",
    "    \n",
    "driver.close()\n",
    "print(\"Done!\")"
   ]
  }
 ],
 "metadata": {
  "kernelspec": {
   "display_name": "Python 3",
   "language": "python",
   "name": "python3"
  },
  "language_info": {
   "codemirror_mode": {
    "name": "ipython",
    "version": 3
   },
   "file_extension": ".py",
   "mimetype": "text/x-python",
   "name": "python",
   "nbconvert_exporter": "python",
   "pygments_lexer": "ipython3",
   "version": "3.8.8"
  }
 },
 "nbformat": 4,
 "nbformat_minor": 5
}
